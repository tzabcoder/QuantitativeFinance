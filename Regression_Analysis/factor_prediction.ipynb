{
 "cells": [
  {
   "cell_type": "markdown",
   "id": "ae3dca2f",
   "metadata": {},
   "source": [
    "#  Factor Prediction\n",
    "In this notebook, I analyze the predictive ability of the 5-factors idenified by Eugene Fama and Ken French (see `/data/FF_5_Factors_Daily_Description.txt` for more information). The overall objective is to determine whether a market portfolio's returns can be predicted with consistency on a periodic basis (weekly, monthly, quarterly) using the 5 identified factors. The primary prediction method used in this experiment is multiple OLS regression."
   ]
  },
  {
   "cell_type": "code",
   "execution_count": 12,
   "id": "26647456",
   "metadata": {},
   "outputs": [],
   "source": [
    "# File Imports\n",
    "import numpy as np\n",
    "import pandas as pd\n",
    "import yfinance as yf\n",
    "import matplotlib.pyplot as plt\n",
    "import statsmodels.api as sm\n",
    "\n",
    "from statsmodels.stats.outliers_influence import variance_inflation_factor as VIF\n",
    "from ISLP.models import (\n",
    "    ModelSpec as MS\n",
    ")"
   ]
  },
  {
   "cell_type": "code",
   "execution_count": 13,
   "id": "b33b9bda",
   "metadata": {},
   "outputs": [
    {
     "name": "stdout",
     "output_type": "stream",
     "text": [
      "            Mkt-RF   SMB   HML   RMW   CMA     RF\n",
      "Date                                             \n",
      "1963-07-01   -0.67  0.02 -0.35  0.03  0.13  0.012\n",
      "1963-07-02    0.79 -0.28  0.28 -0.08 -0.21  0.012\n",
      "1963-07-03    0.63 -0.18 -0.10  0.13 -0.25  0.012\n",
      "1963-07-05    0.40  0.09 -0.28  0.07 -0.30  0.012\n",
      "1963-07-08   -0.63  0.07 -0.20 -0.27  0.06  0.012\n",
      "1963-07-09    0.45  0.00  0.09  0.15 -0.01  0.012\n",
      "1963-07-10   -0.18  0.20  0.00  0.05 -0.09  0.012\n",
      "1963-07-11   -0.16  0.12 -0.29 -0.03  0.07  0.012\n",
      "1963-07-12   -0.12  0.01 -0.09  0.09  0.08  0.012\n",
      "1963-07-15   -0.62  0.07 -0.03  0.15 -0.10  0.012\n"
     ]
    }
   ],
   "source": [
    "# Read the factor data\n",
    "factor_data = pd.read_csv(\"data/FF_5_Factors_Daily.csv\")\n",
    "factor_data['Date'] = pd.to_datetime(factor_data['Date'], format=\"%Y%m%d\")\n",
    "factor_data.set_index('Date', inplace=True)\n",
    "\n",
    "print(factor_data.head(10))"
   ]
  },
  {
   "cell_type": "code",
   "execution_count": 14,
   "id": "1d4958d7",
   "metadata": {},
   "outputs": [
    {
     "name": "stderr",
     "output_type": "stream",
     "text": [
      "[*********************100%***********************]  1 of 1 completed"
     ]
    },
    {
     "name": "stdout",
     "output_type": "stream",
     "text": [
      "Ticker          ^GSPC\n",
      "Date                 \n",
      "1927-12-30  17.660000\n",
      "1928-01-03  17.760000\n",
      "1928-01-04  17.719999\n",
      "1928-01-05  17.549999\n",
      "1928-01-06  17.660000\n",
      "1928-01-09  17.500000\n",
      "1928-01-10  17.370001\n",
      "1928-01-11  17.350000\n",
      "1928-01-12  17.469999\n",
      "1928-01-13  17.580000\n"
     ]
    },
    {
     "name": "stderr",
     "output_type": "stream",
     "text": [
      "\n"
     ]
    }
   ],
   "source": [
    "# Read the historical market data\n",
    "market_data = yf.download(\"^GSPC\", period='max', interval='1d', auto_adjust=True)['Close']\n",
    "\n",
    "print(market_data.head(10))"
   ]
  }
 ],
 "metadata": {
  "kernelspec": {
   "display_name": "venv",
   "language": "python",
   "name": "python3"
  },
  "language_info": {
   "codemirror_mode": {
    "name": "ipython",
    "version": 3
   },
   "file_extension": ".py",
   "mimetype": "text/x-python",
   "name": "python",
   "nbconvert_exporter": "python",
   "pygments_lexer": "ipython3",
   "version": "3.12.6"
  }
 },
 "nbformat": 4,
 "nbformat_minor": 5
}
