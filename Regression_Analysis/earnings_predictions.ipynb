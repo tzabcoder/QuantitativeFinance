{
 "cells": [
  {
   "cell_type": "code",
   "execution_count": 83,
   "id": "fecb252c",
   "metadata": {},
   "outputs": [],
   "source": [
    "# File imports\n",
    "import pandas as pd\n",
    "import numpy as np\n",
    "import seaborn as sns\n",
    "import statsmodels.api as sm\n",
    "import matplotlib.pyplot as plt\n",
    "\n",
    "from ISLP.models import(\n",
    "    ModelSpec as MS\n",
    ")\n",
    "\n",
    "# Import settings\n",
    "plt.style.use('ggplot')"
   ]
  },
  {
   "cell_type": "code",
   "execution_count": 84,
   "id": "ef7eb7b1",
   "metadata": {},
   "outputs": [],
   "source": [
    "# Import the data\n",
    "# See /data/GOOG_Financials.xlsx\n",
    "\n",
    "# Extract the individual sheets\n",
    "balance_sheet = pd.read_excel('data/GOOG_Financials.xlsx', sheet_name='Balance Sheet')\n",
    "income_statement = pd.read_excel('data/GOOG_Financials.xlsx', sheet_name='Income Statement')\n",
    "cash_slow_statement = pd.read_excel('data/GOOG_Financials.xlsx', sheet_name='Cash Flow Statement')\n",
    "\n",
    "# Clean the data\n",
    "balance_sheet.set_index('Date', inplace=True)\n",
    "income_statement.set_index('Date', inplace=True)\n",
    "cash_slow_statement.set_index('Date', inplace=True)\n",
    "\n",
    "balance_sheet.fillna(0, inplace=True)\n",
    "income_statement.fillna(0, inplace=True)\n",
    "cash_slow_statement.fillna(0, inplace=True)\n",
    "\n",
    "balance_sheet = balance_sheet.T\n",
    "income_statement = income_statement.T\n",
    "cash_slow_statement = cash_slow_statement.T\n",
    "\n",
    "# Combine the data into one DataFrame\n",
    "data = pd.concat([balance_sheet, income_statement, cash_slow_statement], axis=1)"
   ]
  },
  {
   "cell_type": "code",
   "execution_count": 85,
   "id": "3313a048",
   "metadata": {},
   "outputs": [],
   "source": [
    "# Calculate the correlation\n",
    "corr_matrix = data.corr()\n",
    "corr_matrix_earnings = corr_matrix['Net Income']\n",
    "\n",
    "CORR_THRESOLD = 0.9\n",
    "corr_columns = []\n",
    "\n",
    "# Get the correlated columns (correlation coefficient is greater than threshold)\n",
    "for i in range(len(corr_matrix_earnings)):\n",
    "    if abs(corr_matrix_earnings.iloc[i]) > CORR_THRESOLD:\n",
    "        corr_columns.append(corr_matrix_earnings.index[i])"
   ]
  }
 ],
 "metadata": {
  "kernelspec": {
   "display_name": "venv",
   "language": "python",
   "name": "python3"
  },
  "language_info": {
   "codemirror_mode": {
    "name": "ipython",
    "version": 3
   },
   "file_extension": ".py",
   "mimetype": "text/x-python",
   "name": "python",
   "nbconvert_exporter": "python",
   "pygments_lexer": "ipython3",
   "version": "3.12.6"
  }
 },
 "nbformat": 4,
 "nbformat_minor": 5
}
