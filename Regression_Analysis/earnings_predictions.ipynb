{
 "cells": [
  {
   "cell_type": "code",
   "execution_count": 4,
   "id": "fecb252c",
   "metadata": {},
   "outputs": [],
   "source": [
    "# File imports\n",
    "import pandas as pd\n",
    "import numpy as np\n",
    "import statsmodels.api as sm\n",
    "import matplotlib.pyplot as plt\n",
    "\n",
    "from ISLP.models import(\n",
    "    ModelSpec as MS\n",
    ")\n",
    "\n",
    "# Import settings\n",
    "plt.style.use('ggplot')"
   ]
  },
  {
   "cell_type": "code",
   "execution_count": null,
   "id": "ef7eb7b1",
   "metadata": {},
   "outputs": [
    {
     "name": "stdout",
     "output_type": "stream",
     "text": [
      "2024-12-31 00:00:00    163711000000\n",
      "2023-12-31 00:00:00    171530000000\n",
      "2022-12-31 00:00:00    164795000000\n",
      "2021-12-31 00:00:00    188143000000\n",
      "2020-12-31 00:00:00    174296000000\n",
      "2019-12-31 00:00:00    152578000000\n",
      "2018-12-31 00:00:00    135676000000\n",
      "2017-12-31 00:00:00    124308000000\n",
      "2016-12-31 00:00:00    105408000000\n",
      "2015-12-31 00:00:00     90114000000\n",
      "2014-12-31 00:00:00     78656000000\n",
      "2013-12-31 00:00:00     72886000000\n",
      "2012-12-31 00:00:00     60454000000\n",
      "2011-12-31 00:00:00     52758000000\n",
      "2010-12-31 00:00:00     41562000000\n",
      "2009-12-31 00:00:00     29167000000\n",
      "2008-12-31 00:00:00     20178182000\n",
      "2007-12-31 00:00:00     17289138000\n",
      "2006-12-31 00:00:00     13039847000\n",
      "2005-12-31 00:00:00      9001071000\n",
      "2004-12-31 00:00:00      2693465000\n",
      "2003-12-31 00:00:00       560234000\n",
      "2002-12-31 00:00:00       231796000\n",
      "Name: Current Assets, dtype: int64\n"
     ]
    }
   ],
   "source": [
    "# Import the data\n",
    "# See /data/GOOG_Financials.xlsx\n",
    "\n",
    "# Extract the individual sheets\n",
    "balance_sheet = pd.read_excel('data/GOOG_Financials.xlsx', sheet_name='Balance Sheet')\n",
    "income_statement = pd.read_excel('data/GOOG_Financials.xlsx', sheet_name='Income Statement')\n",
    "cash_slow_statement = pd.read_excel('data/GOOG_Financials.xlsx', sheet_name='Cash Flow Statement')\n",
    "\n",
    "# Clean the data\n",
    "balance_sheet.set_index('Category', inplace=True)\n",
    "income_statement.set_index('Category', inplace=True)\n",
    "cash_slow_statement.set_index('Category', inplace=True)\n",
    "\n",
    "balance_sheet.fillna(0, inplace=True)\n",
    "income_statement.fillna(0, inplace=True)\n",
    "cash_slow_statement.fillna(0, inplace=True)"
   ]
  }
 ],
 "metadata": {
  "kernelspec": {
   "display_name": "venv",
   "language": "python",
   "name": "python3"
  },
  "language_info": {
   "codemirror_mode": {
    "name": "ipython",
    "version": 3
   },
   "file_extension": ".py",
   "mimetype": "text/x-python",
   "name": "python",
   "nbconvert_exporter": "python",
   "pygments_lexer": "ipython3",
   "version": "3.12.6"
  }
 },
 "nbformat": 4,
 "nbformat_minor": 5
}
