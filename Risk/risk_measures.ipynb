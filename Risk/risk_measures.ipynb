{
 "cells": [
  {
   "cell_type": "markdown",
   "id": "7275927d",
   "metadata": {},
   "source": [
    "# Financial Risk Metrics\n",
    "---\n",
    "This notebook measures the risk characteristics of the S&P 500 index throughout its entire history. The notebook starts by calculating static risk metrics. Then the notebook explores tail-end risk metrics to quantify large losses with small probabilities. To conclude the experiment, we calculate and observe temporal risk metrics."
   ]
  },
  {
   "cell_type": "code",
   "execution_count": 51,
   "id": "dda33f0b",
   "metadata": {},
   "outputs": [
    {
     "name": "stderr",
     "output_type": "stream",
     "text": [
      "[*********************100%***********************]  1 of 1 completed\n"
     ]
    }
   ],
   "source": [
    "import matplotlib.pyplot as plt\n",
    "import numpy as np\n",
    "import scipy.stats as stats\n",
    "import yfinance as yf\n",
    "\n",
    "# Import settings\n",
    "plt.style.use('ggplot')\n",
    "\n",
    "# Download historical S&P 500 data, calculate daily returns\n",
    "data = yf.download('^GSPC', period='max', interval='1d', auto_adjust=True)['Close']\n",
    "data['returns'] = data['^GSPC'].pct_change()\n",
    "data.dropna(inplace=True)\n",
    "\n",
    "# Min Return\n",
    "# Max Return\n",
    "# VaR\n",
    "# Expected Shortfall\n",
    "# Lower Partial Standard Deviation\n",
    "# Relative Frequency of 3-Sigma Returns\n",
    "# Rolling Standard Deviation\n",
    "# Term Structure of Mean\n",
    "# Term Structure of Volatility\n",
    "# Term Structure of Up/Down Volatility\n",
    "# Term Structure of Skew\n",
    "# Term Structure of Kurtosis"
   ]
  },
  {
   "cell_type": "code",
   "execution_count": 52,
   "id": "155894ae",
   "metadata": {},
   "outputs": [
    {
     "name": "stdout",
     "output_type": "stream",
     "text": [
      "Average Return:      0.00030959497714619583\n",
      "Standard Deviation:  0.011954477335647327\n",
      "Skew of Returns:     -0.10902832369081612\n",
      "Kurtosis of Returns: 17.226106473297577\n"
     ]
    },
    {
     "data": {
      "image/png": "[encoded data removed]",
      "text/plain": [
       "<Figure size 640x480 with 1 Axes>"
      ]
     },
     "metadata": {},
     "output_type": "display_data"
    }
   ],
   "source": [
    "# Plot the frequency distribution of returns.\n",
    "# Overlay a normal distribution with same mean (u) and\n",
    "# standard deviation (sd) as the historical return set.\n",
    "\n",
    "u = np.mean(data['returns'])\n",
    "sd = np.std(data['returns'])\n",
    "skew = data['returns'].skew()\n",
    "kurt = data['returns'].kurt()\n",
    "\n",
    "print(f'Average Return:      {u}')\n",
    "print(f'Standard Deviation:  {sd}')\n",
    "print(f'Skew of Returns:     {skew}')\n",
    "print(f'Kurtosis of Returns: {kurt}')\n",
    "\n",
    "# Calulate the normal distribution\n",
    "x = np.linspace(min(data['returns']), max(data['returns']), len(data['returns']))\n",
    "y = stats.norm.pdf(x, u, sd)\n",
    "\n",
    "fig, ax = plt.subplots()\n",
    "\n",
    "# Plot the return frequency\n",
    "nBins = int(np.sqrt(len(data['returns'])))\n",
    "ax.hist(data['returns'], bins=nBins, alpha=0.8, color='blue', label='Return Distribution', density=True)\n",
    "\n",
    "# Plot the normal distribution\n",
    "ax.plot(x, y, color='red', label='Normal')\n",
    "plt.show()"
   ]
  },
  {
   "cell_type": "markdown",
   "id": "44508586",
   "metadata": {},
   "source": [
    "### Summary of Above"
   ]
  }
 ],
 "metadata": {
  "kernelspec": {
   "display_name": "venv",
   "language": "python",
   "name": "python3"
  },
  "language_info": {
   "codemirror_mode": {
    "name": "ipython",
    "version": 3
   },
   "file_extension": ".py",
   "mimetype": "text/x-python",
   "name": "python",
   "nbconvert_exporter": "python",
   "pygments_lexer": "ipython3",
   "version": "3.12.6"
  }
 },
 "nbformat": 4,
 "nbformat_minor": 5
}
