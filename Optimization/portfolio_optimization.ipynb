{
 "cells": [
  {
   "cell_type": "markdown",
   "id": "04d73177",
   "metadata": {},
   "source": [
    "# Portfolio Optimization\n",
    "This notebook demonstrates portfolio optimization techniques on portfolios of N assets. Bootstrapping will be used to estimate the standard errors of the allocation optimization functions. A simple example of two assets is first used to conceptualize the optimization techniques. Once demonstrated, portfolio optimization will be scalled to N assets."
   ]
  },
  {
   "cell_type": "code",
   "execution_count": 5,
   "id": "c966ba23",
   "metadata": {},
   "outputs": [],
   "source": [
    "# Notebook imports\n",
    "import yfinance as yf"
   ]
  },
  {
   "cell_type": "markdown",
   "id": "e3de6828",
   "metadata": {},
   "source": [
    "### 1. Minimum Variance\n",
    "Assets yield returns. Suppose we are a risk-averse and would like to allocate our money between two assets with returns X and Y, where X and Y are random continuous variables. We want to determine the allocation that minimizes total portfolio risk (variance). $\\alpha$ denotes the allocation to X and $1-\\alpha$ denotes the allocation to Y. The total portfolio is then represented as the equation $\\alpha*X + (1-\\alpha)*Y$. The variance of the portfolio is:<br><br>\n",
    "$Var(\\alpha*X + (1-\\alpha)*Y)$<br><br>\n",
    "This is transformed into a minimization problem."
   ]
  },
  {
   "cell_type": "code",
   "execution_count": null,
   "id": "3e984758",
   "metadata": {},
   "outputs": [
    {
     "name": "stderr",
     "output_type": "stream",
     "text": [
      "[*********************100%***********************]  2 of 2 completed"
     ]
    },
    {
     "name": "stdout",
     "output_type": "stream",
     "text": [
      "Ticker             DIA         SPY\n",
      "Date                              \n",
      "1993-01-29         NaN   24.452538\n",
      "1993-02-01         NaN   24.626425\n",
      "1993-02-02         NaN   24.678612\n",
      "1993-02-03         NaN   24.939482\n",
      "1993-02-04         NaN   25.043829\n",
      "...                ...         ...\n",
      "2025-04-29  405.209991  554.320007\n",
      "2025-04-30  406.339996  554.539978\n",
      "2025-05-01  407.420013  558.469971\n",
      "2025-05-02  413.040009  566.760010\n",
      "2025-05-05  412.260010  563.510010\n",
      "\n",
      "[8122 rows x 2 columns]\n"
     ]
    },
    {
     "name": "stderr",
     "output_type": "stream",
     "text": [
      "\n"
     ]
    }
   ],
   "source": [
    "X = 'SPY' # S&P 500 Index\n",
    "Y = 'DIA' # Dow-Jones Index\n",
    "\n",
    "# Download and clean the data\n",
    "data = yf.download(tickers=[X, Y], interval='1d', period='max', auto_adjust=True)['Close']\n",
    "data.dropna(inplace=True)"
   ]
  }
 ],
 "metadata": {
  "kernelspec": {
   "display_name": "venv",
   "language": "python",
   "name": "python3"
  },
  "language_info": {
   "codemirror_mode": {
    "name": "ipython",
    "version": 3
   },
   "file_extension": ".py",
   "mimetype": "text/x-python",
   "name": "python",
   "nbconvert_exporter": "python",
   "pygments_lexer": "ipython3",
   "version": "3.12.6"
  }
 },
 "nbformat": 4,
 "nbformat_minor": 5
}
