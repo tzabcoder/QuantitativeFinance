{
 "cells": [
  {
   "cell_type": "markdown",
   "id": "04d73177",
   "metadata": {},
   "source": [
    "# Portfolio Optimization\n",
    "This notebook demonstrates portfolio optimization techniques and estimator variability. Portfolios are a collection of assets in which each asset is allocated a percentage of the portfolio's capital. This notebook explores different schemes for capital allocation across its holdings. Because portfolio optimization functions are estimators, we will measure estimator variability with bootstrapping."
   ]
  },
  {
   "cell_type": "code",
   "execution_count": 93,
   "id": "c966ba23",
   "metadata": {},
   "outputs": [],
   "source": [
    "# Notebook imports\n",
    "import numpy as np\n",
    "import pandas as pd\n",
    "import yfinance as yf\n",
    "import matplotlib.pyplot as plt\n",
    "\n",
    "plt.style.use('seaborn-v0_8-pastel')"
   ]
  },
  {
   "cell_type": "markdown",
   "id": "e3de6828",
   "metadata": {},
   "source": [
    "## 1. Mean-Variance Optimization\n"
   ]
  },
  {
   "cell_type": "markdown",
   "id": "0522f4b1",
   "metadata": {},
   "source": [
    "#### 2-Asset Portfolio\n",
    "Assets yield returns. Suppose we are a risk-averse investor and would like to allocate our money between two assets with returns X and Y, where X and Y are random continuous variables. We want to determine the allocation that minimizes total portfolio risk (variance) but maximizes the expected return. To start, we consider a simple portfolio with two assets. We then extend the concept to an N-asset portfolio.<br><br>\n",
    " $\\alpha$ denotes the allocation to X and $1-\\alpha$ denotes the allocation to Y. The total portfolio is then represented as the equation $\\alpha*X + (1-\\alpha)*Y$. The variance of the portfolio is:<br><br>\n",
    "$Var(\\alpha*X + (1-\\alpha)*Y)$<br><br>\n",
    "This is transformed into a minimization and maximization problem. We want to minimze variance and maximize expected return.<br>\n",
    "DERIVATION HERE"
   ]
  },
  {
   "cell_type": "code",
   "execution_count": 94,
   "id": "3e984758",
   "metadata": {},
   "outputs": [
    {
     "name": "stderr",
     "output_type": "stream",
     "text": [
      "[*********************100%***********************]  2 of 2 completed"
     ]
    },
    {
     "name": "stdout",
     "output_type": "stream",
     "text": [
      "Ticker         DIA         SPY\n",
      "count   328.000000  328.000000\n",
      "mean      0.007764    0.007809\n",
      "std       0.043895    0.045029\n",
      "min      -0.154253   -0.160354\n",
      "25%      -0.016279   -0.016705\n",
      "50%       0.010793    0.013423\n",
      "75%       0.031763    0.034858\n",
      "max       0.142675    0.133610\n"
     ]
    },
    {
     "name": "stderr",
     "output_type": "stream",
     "text": [
      "\n"
     ]
    }
   ],
   "source": [
    "X = 'SPY' # S&P 500 Index\n",
    "Y = 'DIA' # Dow-Jones Industrial Average\n",
    "\n",
    "# Download monthly data\n",
    "data = yf.download(tickers=[X, Y], interval='1mo', period='max', auto_adjust=True)['Close']\n",
    "\n",
    "# Calculate the monthly returns\n",
    "data[X] = data[X].pct_change()\n",
    "data[Y] = data[Y].pct_change()\n",
    "\n",
    "# Clean the data\n",
    "data.dropna(inplace=True)\n",
    "data.reset_index(inplace=True)\n",
    "data.drop(columns='Date', inplace=True)\n",
    "\n",
    "# Display the summary statistics of the returns\n",
    "print(data.describe())"
   ]
  },
  {
   "cell_type": "code",
   "execution_count": 95,
   "id": "74d9ccda",
   "metadata": {},
   "outputs": [
    {
     "name": "stdout",
     "output_type": "stream",
     "text": [
      "SPY weight = 0.2811 | DIA weight = 0.7189\n"
     ]
    }
   ],
   "source": [
    "def mean_variance_two(df, idx, X='SPY', Y='DIA'):\n",
    "    \"\"\"\n",
    "    * mean_variance_two()\n",
    "    * Calculates the alpha parameter of a two-asset portfolio. Alpha is\n",
    "    * the allocation to the X asset in a portfolio. Uses mean-variance\n",
    "    * optimization.\n",
    "    *\n",
    "    * df:  Dataframe of asset returns.\n",
    "    * idx: Index defining observations to use in the calculations.\n",
    "    *      Used for bootstrap resampling.\n",
    "    * X:   Label of the X asset.\n",
    "    * Y:   Label of the Y asset.\n",
    "    *\n",
    "    * returns the alpha parameter\n",
    "    \"\"\"\n",
    "\n",
    "    covariance = np.cov(df[[X, Y]].loc[idx], rowvar=False)\n",
    "\n",
    "    # Minimized portfolio variance\n",
    "    return (covariance[1,1] - covariance[0,1]) / (covariance[0,0] + covariance[1,1] - 2 * covariance[0,1])\n",
    "\n",
    "alpha = mean_variance_two(data, range(len(data)))\n",
    "print(f'{X} weight = {alpha:.4f} | {Y} weight = {(1-alpha):.4f}')"
   ]
  },
  {
   "cell_type": "markdown",
   "id": "ce4d72be",
   "metadata": {},
   "source": [
    "##### Measuring Variability with Bootstrapping\n",
    "DESCRIPTION HERE"
   ]
  },
  {
   "cell_type": "code",
   "execution_count": 96,
   "id": "1259b3ee",
   "metadata": {},
   "outputs": [
    {
     "name": "stdout",
     "output_type": "stream",
     "text": [
      "0.20039382743018022\n"
     ]
    },
    {
     "data": {
      "image/png": "[encoded data removed]",
      "text/plain": [
       "<Figure size 640x480 with 1 Axes>"
      ]
     },
     "metadata": {},
     "output_type": "display_data"
    }
   ],
   "source": [
    "def bootstrapped_mv2_SE(func, data, B=1000, seed=0):\n",
    "    \"\"\"\n",
    "    * bootstrapped_mv2_SE()\n",
    "    * Calculates the estimated standard error for the alpha parameter using the bootstrap\n",
    "    * technique. Assumes that it is only a two-asset portfolio.\n",
    "    *\n",
    "    * func: Function to calculate the alpha parameter.\n",
    "    * data: Dataframe of asset returns.\n",
    "    * B:    Number of bootstrap replications.\n",
    "    * seed: Random seed for reproducability.\n",
    "    \"\"\"\n",
    "\n",
    "    random_rng = np.random.default_rng(seed)\n",
    "    n = len(data) # Number of observations to use in the index range\n",
    "\n",
    "    # Standard error parameters\n",
    "    se_first, se_second = 0, 0\n",
    "\n",
    "    alpha_estimates = np.zeros(B)\n",
    "\n",
    "    for i in range(B):\n",
    "        # Index range with replacement\n",
    "        idx = random_rng.choice(data.index, n, replace=True)\n",
    "\n",
    "        alpha_value = func(data, idx)\n",
    "        alpha_estimates[i] = alpha_value\n",
    "\n",
    "        # Update the standard error parameters\n",
    "        se_first += alpha_value\n",
    "        se_second += alpha_value ** 2\n",
    "\n",
    "    return np.sqrt(se_second / B - (se_first / B) ** 2), alpha_estimates\n",
    "\n",
    "# Compute the estimated alpha standard error\n",
    "alpha_se, alpha_estimates = bootstrapped_mv2_SE(mean_variance_two, data)\n",
    "\n",
    "# Print the standard error of the alpha\n",
    "print(alpha_se)\n",
    "\n",
    "# Plot the estimates of alpha generated by simulated samples from the true\n",
    "# SPY-DIA dataset.\n",
    "plt.hist(alpha_estimates, bins=15, edgecolor='black')\n",
    "plt.title('Alpha Estimates')\n",
    "plt.xlabel('Alpha')\n",
    "plt.ylabel('Frequency')\n",
    "plt.show()"
   ]
  },
  {
   "cell_type": "markdown",
   "id": "4ed4ddc9",
   "metadata": {},
   "source": [
    "For a random sample from the population of SPY-DIA returns, we would expect the estimated alpha (allocation to X) to differ from the true alpha by approximately 0.2 on average. CONCLUSION HERE"
   ]
  },
  {
   "cell_type": "markdown",
   "id": "4f392e6d",
   "metadata": {},
   "source": [
    "#### N-Asset Portfolio"
   ]
  }
 ],
 "metadata": {
  "kernelspec": {
   "display_name": "venv",
   "language": "python",
   "name": "python3"
  },
  "language_info": {
   "codemirror_mode": {
    "name": "ipython",
    "version": 3
   },
   "file_extension": ".py",
   "mimetype": "text/x-python",
   "name": "python",
   "nbconvert_exporter": "python",
   "pygments_lexer": "ipython3",
   "version": "3.12.6"
  }
 },
 "nbformat": 4,
 "nbformat_minor": 5
}
