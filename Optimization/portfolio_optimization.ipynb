{
 "cells": [
  {
   "cell_type": "markdown",
   "id": "04d73177",
   "metadata": {},
   "source": [
    "# Portfolio Optimization\n",
    "This notebook demonstrates portfolio optimization techniques on portfolios of N assets. Bootstrapping will be used to estimate the standard errors of the allocation optimization functions. A simple example of two assets is first used to conceptualize the optimization techniques. Once demonstrated, portfolio optimization will be scalled to N assets."
   ]
  },
  {
   "cell_type": "code",
   "execution_count": 72,
   "id": "c966ba23",
   "metadata": {},
   "outputs": [],
   "source": [
    "# Notebook imports\n",
    "import numpy as np\n",
    "import pandas as pd\n",
    "import yfinance as yf"
   ]
  },
  {
   "cell_type": "markdown",
   "id": "e3de6828",
   "metadata": {},
   "source": [
    "### 1. Minimum Variance\n",
    "Assets yield returns. Suppose we are a risk-averse and would like to allocate our money between two assets with returns X and Y, where X and Y are random continuous variables. We want to determine the allocation that minimizes total portfolio risk (variance). $\\alpha$ denotes the allocation to X and $1-\\alpha$ denotes the allocation to Y. The total portfolio is then represented as the equation $\\alpha*X + (1-\\alpha)*Y$. The variance of the portfolio is:<br><br>\n",
    "$Var(\\alpha*X + (1-\\alpha)*Y)$<br><br>\n",
    "This is transformed into a minimization problem."
   ]
  },
  {
   "cell_type": "code",
   "execution_count": 73,
   "id": "3e984758",
   "metadata": {},
   "outputs": [
    {
     "name": "stderr",
     "output_type": "stream",
     "text": [
      "[*********************100%***********************]  2 of 2 completed"
     ]
    },
    {
     "name": "stdout",
     "output_type": "stream",
     "text": [
      "Ticker         DIA         SPY\n",
      "count   328.000000  328.000000\n",
      "mean      0.007743    0.007796\n",
      "std       0.043895    0.045029\n",
      "min      -0.154254   -0.160354\n",
      "25%      -0.016279   -0.016705\n",
      "50%       0.010642    0.013423\n",
      "75%       0.031763    0.034857\n",
      "max       0.142675    0.133610\n"
     ]
    },
    {
     "name": "stderr",
     "output_type": "stream",
     "text": [
      "\n"
     ]
    }
   ],
   "source": [
    "X = 'SPY' # S&P 500 Index\n",
    "Y = 'DIA' # Dow-Jones Industrial Average\n",
    "\n",
    "# Download monthly data\n",
    "data = yf.download(tickers=[X, Y], interval='1mo', period='max', auto_adjust=True)['Close']\n",
    "\n",
    "# Calculate the monthly returns\n",
    "data[X] = data[X].pct_change()\n",
    "data[Y] = data[Y].pct_change()\n",
    "\n",
    "# Clean the data\n",
    "data.dropna(inplace=True)\n",
    "data.reset_index(inplace=True)\n",
    "data.drop(columns='Date', inplace=True)\n",
    "\n",
    "# Display the summary statistics of the returns\n",
    "print(data.describe())"
   ]
  },
  {
   "cell_type": "code",
   "execution_count": 74,
   "id": "74d9ccda",
   "metadata": {},
   "outputs": [
    {
     "name": "stdout",
     "output_type": "stream",
     "text": [
      "SPY weight = 0.2812 | DIA weight = 0.7188\n"
     ]
    }
   ],
   "source": [
    "def alpha_function(df, idx, X='SPY', Y='DIA'):\n",
    "    \"\"\"\n",
    "    * alpha_function()\n",
    "    * Calculates the alpha parameter, allocation to the X asset in a portfolio\n",
    "    * minimizing variance between X and Y.\n",
    "    *\n",
    "    * df:  Dataframe of asset returns\n",
    "    * idx: Index defining observations to use in the calculations\n",
    "    * X:   Label of the X asset\n",
    "    * Y:   Label of the Y asset\n",
    "    *\n",
    "    * returns the alpha parameter\n",
    "    \"\"\"\n",
    "\n",
    "    covariance = np.cov(df[[X, Y]].loc[idx], rowvar=False)\n",
    "\n",
    "    # Minimized portfolio variance\n",
    "    return (covariance[1,1] - covariance[0,1]) / (covariance[0,0] + covariance[1,1] - 2 * covariance[0,1])\n",
    "\n",
    "alpha = alpha_function(data, range(len(data)))\n",
    "print(f'{X} weight = {alpha:.4f} | {Y} weight = {(1-alpha):.4f}')"
   ]
  },
  {
   "cell_type": "code",
   "execution_count": 75,
   "id": "1259b3ee",
   "metadata": {},
   "outputs": [
    {
     "name": "stdout",
     "output_type": "stream",
     "text": [
      "0.20038974041602853\n"
     ]
    }
   ],
   "source": [
    "def bootstrapped_alpha_SE(alpha_func, data, B=1000, seed=0):\n",
    "    \"\"\"\n",
    "    * bootstrap_alpha_SE()\n",
    "    * Calculates the estimated standard error for the alpha parameter using the bootstrap\n",
    "    * technique. Makes no assumption as to the alpha function (i.e. can be for 2-n assets).\n",
    "    *\n",
    "    * alpha_func: Function to calculate the alpha parameter\n",
    "    * data: Dataframe of asset returns\n",
    "    * B:    Number of bootstrap replications\n",
    "    * seed: Random seed for reproducability\n",
    "    \"\"\"\n",
    "\n",
    "    random_rng = np.random.default_rng(seed)\n",
    "    n = len(data) # Number of observations to use in the index range\n",
    "\n",
    "    # Standard error parameters\n",
    "    se_first, se_second = 0, 0\n",
    "\n",
    "    for _ in range(B):\n",
    "        # Index range with replacement\n",
    "        idx = random_rng.choice(data.index, n, replace=True)\n",
    "\n",
    "        alpha_value = alpha_function(data, idx)\n",
    "\n",
    "        # Update the standard error parameters\n",
    "        se_first += alpha_value\n",
    "        se_second += alpha_value ** 2\n",
    "\n",
    "    return np.sqrt(se_second / B - (se_first / B) ** 2)\n",
    "\n",
    "# Compute the estimated alpha standard error\n",
    "alpha_se = bootstrapped_alpha_SE(alpha_function, data)\n",
    "\n",
    "print(alpha_se)"
   ]
  }
 ],
 "metadata": {
  "kernelspec": {
   "display_name": "venv",
   "language": "python",
   "name": "python3"
  },
  "language_info": {
   "codemirror_mode": {
    "name": "ipython",
    "version": 3
   },
   "file_extension": ".py",
   "mimetype": "text/x-python",
   "name": "python",
   "nbconvert_exporter": "python",
   "pygments_lexer": "ipython3",
   "version": "3.12.6"
  }
 },
 "nbformat": 4,
 "nbformat_minor": 5
}
