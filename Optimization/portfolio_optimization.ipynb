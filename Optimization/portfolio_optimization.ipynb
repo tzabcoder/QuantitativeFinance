{
 "cells": [
  {
   "cell_type": "markdown",
   "id": "04d73177",
   "metadata": {},
   "source": [
    "# Portfolio Optimization\n",
    "This notebook demonstrates portfolio optimization techniques on portfolios of N assets. Bootstrapping will be used to estimate the standard errors of the allocation optimization functions. A simple example of two assets is first used to conceptualize the optimization techniques. Once demonstrated, portfolio optimization will be scalled to N assets."
   ]
  },
  {
   "cell_type": "code",
   "execution_count": 1,
   "id": "c966ba23",
   "metadata": {},
   "outputs": [],
   "source": [
    "# Notebook imports\n",
    "import yfinance as yf"
   ]
  },
  {
   "cell_type": "markdown",
   "id": "e3de6828",
   "metadata": {},
   "source": [
    "### 1. Minimum Variance\n",
    "Assets yield returns. Suppose we are a risk-averse and would like to allocate our money between two assets with returns X and Y, where X and Y are random continuous variables. We want to determine the allocation that minimizes total portfolio risk (variance). $\\alpha$ denotes the allocation to X and $1-\\alpha$ denotes the allocation to Y. The total portfolio is then represented as the equation $\\alpha*X + (1-\\alpha)*Y$. The variance of the portfolio is:<br><br>\n",
    "$Var(\\alpha*X + (1-\\alpha)*Y)$<br><br>\n",
    "This is transformed into a minimization problem."
   ]
  },
  {
   "cell_type": "code",
   "execution_count": null,
   "id": "3e984758",
   "metadata": {},
   "outputs": [
    {
     "name": "stderr",
     "output_type": "stream",
     "text": [
      "[*********************100%***********************]  2 of 2 completed"
     ]
    },
    {
     "name": "stdout",
     "output_type": "stream",
     "text": [
      "Ticker         QQQ         SPY\n",
      "count   314.000000  314.000000\n",
      "mean      0.009935    0.007170\n",
      "std       0.067657    0.044359\n",
      "min      -0.262053   -0.160355\n",
      "25%      -0.023946   -0.016731\n",
      "50%       0.014620    0.012796\n",
      "75%       0.050064    0.033315\n",
      "max       0.243197    0.133610\n"
     ]
    },
    {
     "name": "stderr",
     "output_type": "stream",
     "text": [
      "\n"
     ]
    }
   ],
   "source": [
    "X = 'SPY' # S&P 500 Index\n",
    "Y = 'QQQ' # NASDAQ-100 Index\n",
    "\n",
    "# Download monthly data\n",
    "data = yf.download(tickers=[X, Y], interval='1mo', period='max', auto_adjust=True)['Close']\n",
    "\n",
    "# Calculate the monthly returns\n",
    "data[X] = data[X].pct_change()\n",
    "data[Y] = data[Y].pct_change()\n",
    "\n",
    "# Clean the data\n",
    "data.dropna(inplace=True)\n",
    "\n",
    "# Display the summary statistics of the returns\n",
    "print(data.describe())"
   ]
  }
 ],
 "metadata": {
  "kernelspec": {
   "display_name": "venv",
   "language": "python",
   "name": "python3"
  },
  "language_info": {
   "codemirror_mode": {
    "name": "ipython",
    "version": 3
   },
   "file_extension": ".py",
   "mimetype": "text/x-python",
   "name": "python",
   "nbconvert_exporter": "python",
   "pygments_lexer": "ipython3",
   "version": "3.12.6"
  }
 },
 "nbformat": 4,
 "nbformat_minor": 5
}
